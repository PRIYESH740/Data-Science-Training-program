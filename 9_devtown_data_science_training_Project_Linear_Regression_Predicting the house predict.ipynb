version https://git-lfs.github.com/spec/v1
oid sha256:b5524f01d5424f68298ef21346c7e275a9d58c21d57485ea1221f80b3226e6bb
size 3313627
