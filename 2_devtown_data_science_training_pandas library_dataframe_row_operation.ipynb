version https://git-lfs.github.com/spec/v1
oid sha256:1cd287c97dd56e73d15b75154d0937e76e578108f2e2e7ecaf68ea592930643e
size 194561
