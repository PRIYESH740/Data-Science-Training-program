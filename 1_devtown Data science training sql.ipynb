version https://git-lfs.github.com/spec/v1
oid sha256:e612ecaf425c7a1d172e901db28179578778950e3e4806d01c64863a7d74c764
size 3361
